{
 "cells": [
  {
   "cell_type": "code",
   "execution_count": 1,
   "metadata": {},
   "outputs": [],
   "source": [
    "import numpy as np\n",
    "import matplotlib.pyplot as plt"
   ]
  },
  {
   "cell_type": "code",
   "execution_count": 88,
   "metadata": {},
   "outputs": [],
   "source": [
    "def get_soc_total():\n",
    "    with open('DOSCAR','r') as f:\n",
    "        line = f.readline()\n",
    "        Number_of_Ions = int(line.split()[0])\n",
    "        if_PDOS = True if int(line.split()[2])==1 else False\n",
    "        for i in range(4):\n",
    "            f.readline()\n",
    "        infor_line = f.readline().split()\n",
    "        NDOS = int(infor_line[2])\n",
    "        Fermi_Energy = float(infor_line[3])\n",
    "\n",
    "        print('Fermi_energy: ',Fermi_Energy)\n",
    "        print('NDOS:         ',NDOS)\n",
    "        total_dos = []\n",
    "        f.readline()\n",
    "        for i in range(NDOS):\n",
    "            line = f.readline().split()[0:2]\n",
    "            total_dos.append(line)\n",
    "\n",
    "        total_dos = np.array(total_dos).astype(float)\n",
    "        # 减去 费米能\n",
    "        total_dos[:,0] = total_dos[:,0] - Fermi_Energy\n",
    "    return total_dos\n",
    "        "
   ]
  },
  {
   "cell_type": "code",
   "execution_count": 94,
   "metadata": {},
   "outputs": [],
   "source": [
    "def get_atom_total(index=1):\n",
    "    with open('DOSCAR','r') as f:\n",
    "        for i in range(5):\n",
    "            f.readline()\n",
    "        infor_line = f.readline().split()\n",
    "        NDOS = int(infor_line[2])\n",
    "        Fermi_Energy = float(infor_line[3])\n",
    "        line_number = NDOS+(index-1)*(NDOS+1)+1\n",
    "        for i in range(line_number):\n",
    "            f.readline()\n",
    "            \n",
    "        atom_dos = []\n",
    "        for i in range(NDOS):\n",
    "            line = f.readline().split()\n",
    "            atom_dos.append(line)\n",
    "\n",
    "        atom_dos = np.array(atom_dos).astype(float)\n",
    "        # 减去 费米能\n",
    "        atom_dos[:,0] = atom_dos[:,0] - Fermi_Energy\n",
    "    return atom_dos"
   ]
  },
  {
   "cell_type": "code",
   "execution_count": 95,
   "metadata": {},
   "outputs": [],
   "source": [
    "Cr = get_atom_total()"
   ]
  },
  {
   "cell_type": "code",
   "execution_count": 98,
   "metadata": {},
   "outputs": [
    {
     "data": {
      "text/plain": [
       "(2501, 37)"
      ]
     },
     "execution_count": 98,
     "metadata": {},
     "output_type": "execute_result"
    }
   ],
   "source": [
    "Cr.shape"
   ]
  },
  {
   "cell_type": "code",
   "execution_count": null,
   "metadata": {},
   "outputs": [],
   "source": []
  }
 ],
 "metadata": {
  "kernelspec": {
   "display_name": "Python 3",
   "language": "python",
   "name": "python3"
  },
  "language_info": {
   "codemirror_mode": {
    "name": "ipython",
    "version": 3
   },
   "file_extension": ".py",
   "mimetype": "text/x-python",
   "name": "python",
   "nbconvert_exporter": "python",
   "pygments_lexer": "ipython3",
   "version": "3.8.5"
  }
 },
 "nbformat": 4,
 "nbformat_minor": 4
}
