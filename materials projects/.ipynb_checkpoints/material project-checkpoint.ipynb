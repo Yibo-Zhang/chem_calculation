{
 "cells": [
  {
   "cell_type": "code",
   "execution_count": 3,
   "metadata": {},
   "outputs": [],
   "source": [
    "import requests\n",
    "import json"
   ]
  },
  {
   "cell_type": "code",
   "execution_count": 16,
   "metadata": {},
   "outputs": [],
   "source": [
    "base_url = 'https://www.materialsproject.org/rest/v2/materials/{}/vasp?API_KEY={}'\n",
    "API = 'c3T4UMROT0t2UvOOUmx'\n",
    "transitional_metal_list = ['Sc','Ti','V','Cr','Mn','Fe','Co','Ni','Cu','Zn',\n",
    "                          'Y','Zr','Nb','Mo','Tc','Ru','Rh','Pd','Ag','Cd']\n",
    "N = 'N'\n",
    "O = 'O'\n",
    "\n",
    "# material_name = 'Cr-N'\n",
    "# url = base_url.format(material_name,API)\n",
    "# r = requests.get(url)\n",
    "# data = r.json()['response']\n",
    "# data[1]['pretty_formula']\n",
    "# # data['pretty_formula']\n"
   ]
  },
  {
   "cell_type": "code",
   "execution_count": 17,
   "metadata": {},
   "outputs": [],
   "source": [
    "def get_structue(material_name,expected_spacegroup):\n",
    "    base_url = 'https://www.materialsproject.org/rest/v2/materials/{}/vasp?API_KEY={}'\n",
    "    API = 'c3T4UMROT0t2UvOOUmx'\n",
    "    url = base_url.format(material_name,API)\n",
    "    r = requests.get(url)\n",
    "    data = r.json()['response']\n",
    "    data_length = len(data)\n",
    "    for i in range(data_length):\n",
    "        if data[i]['spacegroup']['symbol'] == expected_spacegroup:\n",
    "            print(data[i]['pretty_formula'])"
   ]
  },
  {
   "cell_type": "code",
   "execution_count": 18,
   "metadata": {},
   "outputs": [
    {
     "name": "stdout",
     "output_type": "stream",
     "text": [
      "CrN\n"
     ]
    }
   ],
   "source": [
    "get_structue('Cr-N','P-6m2')"
   ]
  },
  {
   "cell_type": "code",
   "execution_count": 19,
   "metadata": {},
   "outputs": [
    {
     "name": "stdout",
     "output_type": "stream",
     "text": [
      "VN\n",
      "CrN\n",
      "YN\n",
      "ZrN\n",
      "NbN\n",
      "MoN\n",
      "Tc3N\n",
      "TcN\n",
      "RuN\n",
      "RhN\n",
      "PdN\n",
      "AgN\n",
      "CdN\n"
     ]
    }
   ],
   "source": [
    "for i in transitional_metal_list:\n",
    "    expected_spacegroup = 'P-6m2'\n",
    "    material_name = i+'-N'\n",
    "    get_structue(material_name,expected_spacegroup)"
   ]
  },
  {
   "cell_type": "code",
   "execution_count": 20,
   "metadata": {},
   "outputs": [
    {
     "name": "stdout",
     "output_type": "stream",
     "text": [
      "TiO\n"
     ]
    }
   ],
   "source": [
    "for i in transitional_metal_list:\n",
    "    expected_spacegroup = 'P-6m2'\n",
    "    material_name = i+'-O'\n",
    "    get_structue(material_name,expected_spacegroup)"
   ]
  },
  {
   "cell_type": "code",
   "execution_count": 32,
   "metadata": {
    "scrolled": true
   },
   "outputs": [
    {
     "name": "stdout",
     "output_type": "stream",
     "text": [
      "TiFeN2\n",
      "TiCoN2\n",
      "V3CrN3\n",
      "Mn3VN3\n",
      "VFeN2\n",
      "VCoN2\n",
      "VNiN2\n",
      "Mn3CrN3\n",
      "CrFeN2\n",
      "Cr(FeN)3\n",
      "CrCoN2\n",
      "Zn3CrN3\n",
      "Cr(CdN)3\n",
      "Mn3FeN3\n",
      "MnNiN2\n",
      "MnMoN2\n",
      "Mn(CdN)3\n",
      "Fe(CoN)3\n",
      "Fe(NiN)3\n",
      "Y2Fe17N3\n"
     ]
    }
   ],
   "source": [
    "# ternary Nitride\n",
    "transitional_metal_length = len(transitional_metal_list)\n",
    "for i in range(transitional_metal_length):\n",
    "    for j in range(i+1,transitional_metal_length):\n",
    "        expected_spacegroup = 'P6_3/mmc'\n",
    "        material_name = transitional_metal_list[i]+'-'+transitional_metal_list[j]+'-'+'N'\n",
    "        get_structue(material_name,expected_spacegroup)"
   ]
  },
  {
   "cell_type": "code",
   "execution_count": 33,
   "metadata": {},
   "outputs": [
    {
     "name": "stdout",
     "output_type": "stream",
     "text": [
      "ScFeO3\n",
      "ScCuO2\n",
      "YScO3\n",
      "ScAgO2\n",
      "YTiO3\n",
      "VCuO2\n",
      "YVO3\n",
      "CrCuO2\n",
      "YCrO3\n",
      "YMnO3\n",
      "MnAgO2\n",
      "FeCoO2\n",
      "FeCuO2\n",
      "YFeO3\n",
      "FeAgO2\n",
      "YCoO3\n",
      "CoAgO2\n",
      "CoAgO2\n",
      "CoAgO2\n",
      "YNiO3\n",
      "NiAgO2\n",
      "Ni2Ag3O4\n",
      "YCuO2\n",
      "YMoO3\n",
      "YAgO2\n",
      "Zr9Mo4O3\n",
      "AgRhO2\n"
     ]
    }
   ],
   "source": [
    "# ternary Oxide\n",
    "transitional_metal_length = len(transitional_metal_list)\n",
    "for i in range(transitional_metal_length):\n",
    "    for j in range(i+1,transitional_metal_length):\n",
    "        expected_spacegroup = 'P6_3/mmc'\n",
    "        material_name = transitional_metal_list[i]+'-'+transitional_metal_list[j]+'-'+'O'\n",
    "        get_structue(material_name,expected_spacegroup)"
   ]
  },
  {
   "cell_type": "code",
   "execution_count": null,
   "metadata": {},
   "outputs": [],
   "source": []
  }
 ],
 "metadata": {
  "kernelspec": {
   "display_name": "Python 3",
   "language": "python",
   "name": "python3"
  },
  "language_info": {
   "codemirror_mode": {
    "name": "ipython",
    "version": 3
   },
   "file_extension": ".py",
   "mimetype": "text/x-python",
   "name": "python",
   "nbconvert_exporter": "python",
   "pygments_lexer": "ipython3",
   "version": "3.8.5"
  }
 },
 "nbformat": 4,
 "nbformat_minor": 4
}
