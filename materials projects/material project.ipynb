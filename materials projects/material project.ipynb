{
 "cells": [
  {
   "cell_type": "code",
   "execution_count": 2,
   "metadata": {},
   "outputs": [],
   "source": [
    "import requests\n",
    "import json"
   ]
  },
  {
   "cell_type": "code",
   "execution_count": 19,
   "metadata": {},
   "outputs": [],
   "source": [
    "base_url = 'https://www.materialsproject.org/rest/v2/materials/{}/vasp?API_KEY={}'\n",
    "API = 'c3T4UMROT0t2UvOOUmx'\n",
    "transitional_metal_list = ['Sc','Ti','V','Cr','Mn','Fe','Co','Ni','Cu','Zn',\n",
    "                          'Y','Zr','Nb','Mo','Tc','Ru','Rh','Pd','Ag','Cd']\n",
    "N = 'N'\n",
    "O = 'O'\n",
    "\n",
    "# material_name = 'Cr-N'\n",
    "# url = base_url.format(material_name,API)\n",
    "# r = requests.get(url)\n",
    "# data = r.json()['response']\n",
    "# data[1]['pretty_formula']\n",
    "# # data['pretty_formula']\n"
   ]
  },
  {
   "cell_type": "code",
   "execution_count": 20,
   "metadata": {},
   "outputs": [
    {
     "name": "stdout",
     "output_type": "stream",
     "text": [
      "TiO\n"
     ]
    }
   ],
   "source": [
    "# search transitional metal oxide \n",
    "for i in transitional_metal_list:\n",
    "    material_name = i+'-'+'O'\n",
    "    url = base_url.format(material_name,API)\n",
    "    r = requests.get(url)\n",
    "    data = r.json()['response']\n",
    "    data_length = len(data)\n",
    "    for i in range(data_length):\n",
    "        if data[i]['spacegroup']['symbol'] == 'P-6m2':\n",
    "            print(data[i]['pretty_formula'])"
   ]
  },
  {
   "cell_type": "code",
   "execution_count": null,
   "metadata": {},
   "outputs": [],
   "source": []
  }
 ],
 "metadata": {
  "kernelspec": {
   "display_name": "Python 3",
   "language": "python",
   "name": "python3"
  },
  "language_info": {
   "codemirror_mode": {
    "name": "ipython",
    "version": 3
   },
   "file_extension": ".py",
   "mimetype": "text/x-python",
   "name": "python",
   "nbconvert_exporter": "python",
   "pygments_lexer": "ipython3",
   "version": "3.8.5"
  }
 },
 "nbformat": 4,
 "nbformat_minor": 4
}
